{
  "nbformat": 4,
  "nbformat_minor": 0,
  "metadata": {
    "colab": {
      "provenance": [],
      "include_colab_link": true
    },
    "kernelspec": {
      "name": "python3",
      "display_name": "Python 3"
    },
    "language_info": {
      "name": "python"
    }
  },
  "cells": [
    {
      "cell_type": "markdown",
      "metadata": {
        "id": "view-in-github",
        "colab_type": "text"
      },
      "source": [
        "<a href=\"https://colab.research.google.com/github/Wushuyen/RetailCompany/blob/main/Python_Excel_20%E5%B7%AB%E5%8F%94%E6%99%8F.ipynb\" target=\"_parent\"><img src=\"https://colab.research.google.com/assets/colab-badge.svg\" alt=\"Open In Colab\"/></a>"
      ]
    },
    {
      "cell_type": "markdown",
      "source": [
        "連線至雲端"
      ],
      "metadata": {
        "id": "qlQo8NSSwhc1"
      }
    },
    {
      "cell_type": "code",
      "source": [
        "from google.colab import drive\n",
        "drive.mount('/content/drive')"
      ],
      "metadata": {
        "id": "Dgcue38AwgKN",
        "colab": {
          "base_uri": "https://localhost:8080/"
        },
        "outputId": "19bae872-755b-41ec-c23c-118afeb111b2"
      },
      "execution_count": 12,
      "outputs": [
        {
          "output_type": "stream",
          "name": "stdout",
          "text": [
            "Drive already mounted at /content/drive; to attempt to forcibly remount, call drive.mount(\"/content/drive\", force_remount=True).\n"
          ]
        }
      ]
    },
    {
      "cell_type": "markdown",
      "source": [
        "載入套件"
      ],
      "metadata": {
        "id": "H2ttAIUk_A9Y"
      }
    },
    {
      "cell_type": "code",
      "execution_count": 13,
      "metadata": {
        "id": "vCsIegDMiwlb"
      },
      "outputs": [],
      "source": [
        "from pathlib import Path\n",
        "import pandas as pd\n",
        "import csv\n",
        "import os\n",
        "import openpyxl\n",
        "from openpyxl import load_workbook, Workbook\n",
        "from openpyxl.chart import BarChart, Reference"
      ]
    },
    {
      "cell_type": "markdown",
      "source": [
        "指定路徑並讀取路徑內資料"
      ],
      "metadata": {
        "id": "lBXm4hAe_HIW"
      }
    },
    {
      "cell_type": "code",
      "source": [
        "this_dir = Path('/content/drive/MyDrive/py4ex')\n",
        "FilePath = f\"{this_dir}/data\"\n",
        "\n",
        "Files = os.listdir(FilePath)\n",
        "print(Files)"
      ],
      "metadata": {
        "id": "3gLgCUhB936n",
        "colab": {
          "base_uri": "https://localhost:8080/"
        },
        "outputId": "7abbc311-12fd-4c1a-dd7e-f04e66553399"
      },
      "execution_count": 14,
      "outputs": [
        {
          "output_type": "stream",
          "name": "stdout",
          "text": [
            "['January.csv', 'March.csv', 'February.csv']\n"
          ]
        }
      ]
    },
    {
      "cell_type": "markdown",
      "source": [
        "如果目的地Excel不存在，就建立新的"
      ],
      "metadata": {
        "id": "3K8XEiG6TOU1"
      }
    },
    {
      "cell_type": "code",
      "source": [
        "if not os.path.exists(f\"{this_dir}/SalesReport.xlsx\"):\n",
        "    wb = Workbook()\n",
        "    wb.save(f\"{this_dir}/SalesReport.xlsx\")"
      ],
      "metadata": {
        "id": "OQbsGbW9CFO5"
      },
      "execution_count": 15,
      "outputs": []
    },
    {
      "cell_type": "markdown",
      "source": [
        "依序讀取每個CSV檔，並以store為依據分組加總amount後做成長條圖"
      ],
      "metadata": {
        "id": "L9rzoCZ_TUsS"
      }
    },
    {
      "cell_type": "code",
      "source": [
        "for file in Files:\n",
        "    # 讀取CSV檔案\n",
        "    df = pd.read_csv(f\"{FilePath}/{file}\")\n",
        "\n",
        "    # 開啟現有Excel活頁簿\n",
        "    destination_wb = load_workbook(f\"{this_dir}/SalesReport.xlsx\")\n",
        "\n",
        "    # 建立新的工作表，命名為CSV檔名\n",
        "    sheet_name = file[:-4]\n",
        "    destination_ws = destination_wb.create_sheet(title=sheet_name)\n",
        "\n",
        "    # 寫入資料\n",
        "    # 標題\n",
        "    destination_ws.append(list(df.columns))\n",
        "    # 資料列\n",
        "    for row in df.itertuples(index=False, name=None):\n",
        "        destination_ws.append(row)\n",
        "\n",
        "    # 以store為依據分組加總amount，寫入第I、J欄\n",
        "    if 'store' in df.columns and 'amount' in df.columns:\n",
        "      # 分組加總\n",
        "      sum = df.groupby('store')['amount'].sum().reset_index()\n",
        "      # 寫入標題\n",
        "      destination_ws.cell(row=1, column=9, value='Store')\n",
        "      destination_ws.cell(row=1, column=10, value='Total Amount')\n",
        "      # 寫入分類的總金額\n",
        "      for i, row in enumerate(sum.itertuples(index=False), start=2):\n",
        "          destination_ws.cell(row=i, column=9, value=row.store)\n",
        "          destination_ws.cell(row=i, column=10, value=row.amount)\n",
        "\n",
        "    # 建立柱狀圖\n",
        "\n",
        "    # 建立圖表物件\n",
        "    chart = BarChart()\n",
        "    chart.type = \"col\"\n",
        "    chart.title = f\"{file[:-4]}各城市銷售總額\"\n",
        "    chart.x_axis.title = \"城市\"\n",
        "    chart.y_axis.title = \"銷售總額\"\n",
        "\n",
        "    # J欄：銷售總額、I欄：城市\n",
        "    data_ref = Reference(destination_ws, min_col=10, min_row=1, max_row=1 + len(sum))\n",
        "    cats_ref = Reference(destination_ws, min_col=9, min_row=2, max_row=1 + len(sum))\n",
        "\n",
        "    # 加入資料與分類\n",
        "    chart.add_data(data_ref, titles_from_data=True)\n",
        "    chart.set_categories(cats_ref)\n",
        "\n",
        "    # 將圖表放到 I10\n",
        "    destination_ws.add_chart(chart, \"I10\")\n",
        "\n",
        "    # 儲存檔案\n",
        "    destination_wb.save(f\"{this_dir}/SalesReport.xlsx\")\n",
        "\n",
        "\n",
        "if \"Sheet\" in destination_wb.sheetnames:\n",
        "    std = destination_wb[\"Sheet\"]\n",
        "    destination_wb.remove(std)\n",
        "# 儲存檔案\n",
        "destination_wb.save(f\"{this_dir}/SalesReport.xlsx\")\n",
        "print(\"所有檔案匯入完成\")"
      ],
      "metadata": {
        "colab": {
          "base_uri": "https://localhost:8080/"
        },
        "id": "LgsmITZsCM6T",
        "outputId": "f43d1334-e2ed-4780-be15-2069a8e69df2"
      },
      "execution_count": 16,
      "outputs": [
        {
          "output_type": "stream",
          "name": "stdout",
          "text": [
            "所有檔案匯入完成\n"
          ]
        }
      ]
    }
  ]
}